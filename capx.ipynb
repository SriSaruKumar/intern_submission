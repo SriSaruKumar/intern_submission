{
  "nbformat": 4,
  "nbformat_minor": 0,
  "metadata": {
    "colab": {
      "provenance": []
    },
    "kernelspec": {
      "name": "python3",
      "display_name": "Python 3"
    },
    "language_info": {
      "name": "python"
    }
  },
  "cells": [
    {
      "cell_type": "code",
      "execution_count": 1,
      "metadata": {
        "colab": {
          "base_uri": "https://localhost:8080/"
        },
        "id": "OWLP6-ipGQts",
        "outputId": "927d20be-f830-4d53-8e98-f3a141a02ce1"
      },
      "outputs": [
        {
          "output_type": "stream",
          "name": "stdout",
          "text": [
            "Collecting praw\n",
            "  Downloading praw-7.8.1-py3-none-any.whl.metadata (9.4 kB)\n",
            "Requirement already satisfied: nltk in /usr/local/lib/python3.10/dist-packages (3.9.1)\n",
            "Collecting prawcore<3,>=2.4 (from praw)\n",
            "  Downloading prawcore-2.4.0-py3-none-any.whl.metadata (5.0 kB)\n",
            "Collecting update_checker>=0.18 (from praw)\n",
            "  Downloading update_checker-0.18.0-py3-none-any.whl.metadata (2.3 kB)\n",
            "Requirement already satisfied: websocket-client>=0.54.0 in /usr/local/lib/python3.10/dist-packages (from praw) (1.8.0)\n",
            "Requirement already satisfied: click in /usr/local/lib/python3.10/dist-packages (from nltk) (8.1.7)\n",
            "Requirement already satisfied: joblib in /usr/local/lib/python3.10/dist-packages (from nltk) (1.4.2)\n",
            "Requirement already satisfied: regex>=2021.8.3 in /usr/local/lib/python3.10/dist-packages (from nltk) (2024.9.11)\n",
            "Requirement already satisfied: tqdm in /usr/local/lib/python3.10/dist-packages (from nltk) (4.66.6)\n",
            "Requirement already satisfied: requests<3.0,>=2.6.0 in /usr/local/lib/python3.10/dist-packages (from prawcore<3,>=2.4->praw) (2.32.3)\n",
            "Requirement already satisfied: charset-normalizer<4,>=2 in /usr/local/lib/python3.10/dist-packages (from requests<3.0,>=2.6.0->prawcore<3,>=2.4->praw) (3.4.0)\n",
            "Requirement already satisfied: idna<4,>=2.5 in /usr/local/lib/python3.10/dist-packages (from requests<3.0,>=2.6.0->prawcore<3,>=2.4->praw) (3.10)\n",
            "Requirement already satisfied: urllib3<3,>=1.21.1 in /usr/local/lib/python3.10/dist-packages (from requests<3.0,>=2.6.0->prawcore<3,>=2.4->praw) (2.2.3)\n",
            "Requirement already satisfied: certifi>=2017.4.17 in /usr/local/lib/python3.10/dist-packages (from requests<3.0,>=2.6.0->prawcore<3,>=2.4->praw) (2024.8.30)\n",
            "Downloading praw-7.8.1-py3-none-any.whl (189 kB)\n",
            "\u001b[2K   \u001b[90m━━━━━━━━━━━━━━━━━━━━━━━━━━━━━━━━━━━━━━━━\u001b[0m \u001b[32m189.3/189.3 kB\u001b[0m \u001b[31m4.6 MB/s\u001b[0m eta \u001b[36m0:00:00\u001b[0m\n",
            "\u001b[?25hDownloading prawcore-2.4.0-py3-none-any.whl (17 kB)\n",
            "Downloading update_checker-0.18.0-py3-none-any.whl (7.0 kB)\n",
            "Installing collected packages: update_checker, prawcore, praw\n",
            "Successfully installed praw-7.8.1 prawcore-2.4.0 update_checker-0.18.0\n"
          ]
        }
      ],
      "source": [
        "!pip install praw nltk\n"
      ]
    },
    {
      "cell_type": "code",
      "source": [
        "!pip install vaderSentiment\n"
      ],
      "metadata": {
        "colab": {
          "base_uri": "https://localhost:8080/"
        },
        "id": "wfgi_uMFLnGh",
        "outputId": "1dfbc8bd-41fd-4606-d7e9-71e25aa5ad94"
      },
      "execution_count": 7,
      "outputs": [
        {
          "output_type": "stream",
          "name": "stdout",
          "text": [
            "Collecting vaderSentiment\n",
            "  Downloading vaderSentiment-3.3.2-py2.py3-none-any.whl.metadata (572 bytes)\n",
            "Requirement already satisfied: requests in /usr/local/lib/python3.10/dist-packages (from vaderSentiment) (2.32.3)\n",
            "Requirement already satisfied: charset-normalizer<4,>=2 in /usr/local/lib/python3.10/dist-packages (from requests->vaderSentiment) (3.4.0)\n",
            "Requirement already satisfied: idna<4,>=2.5 in /usr/local/lib/python3.10/dist-packages (from requests->vaderSentiment) (3.10)\n",
            "Requirement already satisfied: urllib3<3,>=1.21.1 in /usr/local/lib/python3.10/dist-packages (from requests->vaderSentiment) (2.2.3)\n",
            "Requirement already satisfied: certifi>=2017.4.17 in /usr/local/lib/python3.10/dist-packages (from requests->vaderSentiment) (2024.8.30)\n",
            "Downloading vaderSentiment-3.3.2-py2.py3-none-any.whl (125 kB)\n",
            "\u001b[?25l   \u001b[90m━━━━━━━━━━━━━━━━━━━━━━━━━━━━━━━━━━━━━━━━\u001b[0m \u001b[32m0.0/126.0 kB\u001b[0m \u001b[31m?\u001b[0m eta \u001b[36m-:--:--\u001b[0m\r\u001b[2K   \u001b[90m━━━━━━━━━━━━━━━━━━━━━━━━━━━━━━━━━━━━━━━━\u001b[0m \u001b[32m126.0/126.0 kB\u001b[0m \u001b[31m3.6 MB/s\u001b[0m eta \u001b[36m0:00:00\u001b[0m\n",
            "\u001b[?25hInstalling collected packages: vaderSentiment\n",
            "Successfully installed vaderSentiment-3.3.2\n"
          ]
        }
      ]
    },
    {
      "cell_type": "code",
      "source": [
        "pip install --upgrade nltk\n"
      ],
      "metadata": {
        "colab": {
          "base_uri": "https://localhost:8080/"
        },
        "id": "IGEt9V5bJOoZ",
        "outputId": "63b1e767-e92b-4900-f739-f087c5e0f728"
      },
      "execution_count": 3,
      "outputs": [
        {
          "output_type": "stream",
          "name": "stdout",
          "text": [
            "Requirement already satisfied: nltk in /usr/local/lib/python3.10/dist-packages (3.9.1)\n",
            "Requirement already satisfied: click in /usr/local/lib/python3.10/dist-packages (from nltk) (8.1.7)\n",
            "Requirement already satisfied: joblib in /usr/local/lib/python3.10/dist-packages (from nltk) (1.4.2)\n",
            "Requirement already satisfied: regex>=2021.8.3 in /usr/local/lib/python3.10/dist-packages (from nltk) (2024.9.11)\n",
            "Requirement already satisfied: tqdm in /usr/local/lib/python3.10/dist-packages (from nltk) (4.66.6)\n"
          ]
        }
      ]
    },
    {
      "cell_type": "code",
      "source": [
        "nltk.download('stopwords')\n",
        "nltk.download('punkt')"
      ],
      "metadata": {
        "colab": {
          "base_uri": "https://localhost:8080/",
          "height": 158
        },
        "id": "wV9xGIB9J6oD",
        "outputId": "0101eac5-743d-4d97-cf04-8a539e3ee034"
      },
      "execution_count": 4,
      "outputs": [
        {
          "output_type": "error",
          "ename": "NameError",
          "evalue": "name 'nltk' is not defined",
          "traceback": [
            "\u001b[0;31m---------------------------------------------------------------------------\u001b[0m",
            "\u001b[0;31mNameError\u001b[0m                                 Traceback (most recent call last)",
            "\u001b[0;32m<ipython-input-4-cbecc13694b5>\u001b[0m in \u001b[0;36m<cell line: 1>\u001b[0;34m()\u001b[0m\n\u001b[0;32m----> 1\u001b[0;31m \u001b[0mnltk\u001b[0m\u001b[0;34m.\u001b[0m\u001b[0mdownload\u001b[0m\u001b[0;34m(\u001b[0m\u001b[0;34m'stopwords'\u001b[0m\u001b[0;34m)\u001b[0m\u001b[0;34m\u001b[0m\u001b[0;34m\u001b[0m\u001b[0m\n\u001b[0m\u001b[1;32m      2\u001b[0m \u001b[0mnltk\u001b[0m\u001b[0;34m.\u001b[0m\u001b[0mdownload\u001b[0m\u001b[0;34m(\u001b[0m\u001b[0;34m'punkt'\u001b[0m\u001b[0;34m)\u001b[0m\u001b[0;34m\u001b[0m\u001b[0;34m\u001b[0m\u001b[0m\n",
            "\u001b[0;31mNameError\u001b[0m: name 'nltk' is not defined"
          ]
        }
      ]
    },
    {
      "cell_type": "code",
      "source": [
        "import praw\n",
        "import re\n",
        "import nltk\n",
        "import csv\n",
        "from nltk.corpus import stopwords\n",
        "import pandas as pd  # For saving to CSV\n",
        "import time\n",
        "\n",
        "# Download NLTK stopwords (run once)\n",
        "nltk.download('stopwords')\n",
        "\n",
        "# Initialize stopwords\n",
        "stop_words = set(stopwords.words('english'))\n",
        "\n",
        "# Configure PRAW with your Reddit API credentials\n",
        "reddit = praw.Reddit(\n",
        "    client_id='dGZIjyPDfm0AGILS_Cnmmw',\n",
        "    client_secret='G9x6B53pR-qyMiQABLm-U1CnJO3Spg',\n",
        "    user_agent='python:stock_scraper:1.0 (by u/MetalMaleficent6947)'\n",
        ")\n",
        "\n",
        "# Function to scrape data from a subreddit with pagination support\n",
        "def scrape_reddit(subreddit_name, limit=1000):\n",
        "    subreddit = reddit.subreddit(subreddit_name)\n",
        "    posts = []\n",
        "    count = 0\n",
        "\n",
        "    # Scrape posts in batches, adding a time delay to prevent hitting rate limits\n",
        "    for post in subreddit.new(limit=None):  # Fetches all available posts\n",
        "        if count >= limit:\n",
        "            break\n",
        "        posts.append({\n",
        "            'title': post.title,\n",
        "            'selftext': post.selftext,\n",
        "            'score': post.score,\n",
        "            'created_utc': post.created_utc\n",
        "        })\n",
        "        count += 1\n",
        "\n",
        "        # Delay to prevent rate limiting\n",
        "        time.sleep(1)  # Adjust the delay as needed (e.g., 1 second)\n",
        "\n",
        "    return posts\n",
        "\n",
        "# Text preprocessing function\n",
        "def preprocess_text(text):\n",
        "    # Remove URLs\n",
        "    text = re.sub(r'http\\S+|www\\S+|https\\S+', '', text, flags=re.MULTILINE)\n",
        "    # Remove special characters and numbers\n",
        "    text = re.sub(r'\\W+|\\d+', ' ', text)\n",
        "    # Convert to lowercase\n",
        "    text = text.lower()\n",
        "    # Remove stopwords\n",
        "    text_tokens = text.split()\n",
        "    text_tokens = [word for word in text_tokens if word not in stop_words]\n",
        "    # Rejoin tokens\n",
        "    return ' '.join(text_tokens)\n",
        "\n",
        "# Save data to a CSV file\n",
        "def save_to_csv(data, filename):\n",
        "    # Convert list of dictionaries to DataFrame\n",
        "    df = pd.DataFrame(data)\n",
        "    # Save DataFrame to CSV\n",
        "    df.to_csv(filename, index=False)\n",
        "    print(f\"Data saved to {filename}\")\n",
        "\n",
        "# Example usage\n",
        "if __name__ == \"__main__\":\n",
        "    # Scrape a larger number of posts from a subreddit (e.g., r/wallstreetbets)\n",
        "    scraped_data = scrape_reddit(subreddit_name=\"wallstreetbets\", limit=1000)\n",
        "\n",
        "    # Preprocess the title and selftext of each post\n",
        "    for post in scraped_data:\n",
        "        post['cleaned_title'] = preprocess_text(post['title'])\n",
        "        post['cleaned_selftext'] = preprocess_text(post['selftext'])\n",
        "\n",
        "    # Save the processed data to a CSV file\n",
        "    save_to_csv(scraped_data, \"/content/drive/MyDrive/Intern/reddit_scraped_data.csv\")\n"
      ],
      "metadata": {
        "colab": {
          "base_uri": "https://localhost:8080/"
        },
        "id": "AtddTPzjIJ4v",
        "outputId": "450d88cf-0c52-4f30-af76-f050f2e14945"
      },
      "execution_count": 35,
      "outputs": [
        {
          "output_type": "stream",
          "name": "stderr",
          "text": [
            "[nltk_data] Downloading package stopwords to /root/nltk_data...\n",
            "[nltk_data]   Package stopwords is already up-to-date!\n",
            "WARNING:praw:It appears that you are using PRAW in an asynchronous environment.\n",
            "It is strongly recommended to use Async PRAW: https://asyncpraw.readthedocs.io.\n",
            "See https://praw.readthedocs.io/en/latest/getting_started/multiple_instances.html#discord-bots-and-asynchronous-environments for more info.\n",
            "\n",
            "WARNING:praw:It appears that you are using PRAW in an asynchronous environment.\n",
            "It is strongly recommended to use Async PRAW: https://asyncpraw.readthedocs.io.\n",
            "See https://praw.readthedocs.io/en/latest/getting_started/multiple_instances.html#discord-bots-and-asynchronous-environments for more info.\n",
            "\n",
            "WARNING:praw:It appears that you are using PRAW in an asynchronous environment.\n",
            "It is strongly recommended to use Async PRAW: https://asyncpraw.readthedocs.io.\n",
            "See https://praw.readthedocs.io/en/latest/getting_started/multiple_instances.html#discord-bots-and-asynchronous-environments for more info.\n",
            "\n",
            "WARNING:praw:It appears that you are using PRAW in an asynchronous environment.\n",
            "It is strongly recommended to use Async PRAW: https://asyncpraw.readthedocs.io.\n",
            "See https://praw.readthedocs.io/en/latest/getting_started/multiple_instances.html#discord-bots-and-asynchronous-environments for more info.\n",
            "\n",
            "WARNING:praw:It appears that you are using PRAW in an asynchronous environment.\n",
            "It is strongly recommended to use Async PRAW: https://asyncpraw.readthedocs.io.\n",
            "See https://praw.readthedocs.io/en/latest/getting_started/multiple_instances.html#discord-bots-and-asynchronous-environments for more info.\n",
            "\n",
            "WARNING:praw:It appears that you are using PRAW in an asynchronous environment.\n",
            "It is strongly recommended to use Async PRAW: https://asyncpraw.readthedocs.io.\n",
            "See https://praw.readthedocs.io/en/latest/getting_started/multiple_instances.html#discord-bots-and-asynchronous-environments for more info.\n",
            "\n",
            "WARNING:praw:It appears that you are using PRAW in an asynchronous environment.\n",
            "It is strongly recommended to use Async PRAW: https://asyncpraw.readthedocs.io.\n",
            "See https://praw.readthedocs.io/en/latest/getting_started/multiple_instances.html#discord-bots-and-asynchronous-environments for more info.\n",
            "\n",
            "WARNING:praw:It appears that you are using PRAW in an asynchronous environment.\n",
            "It is strongly recommended to use Async PRAW: https://asyncpraw.readthedocs.io.\n",
            "See https://praw.readthedocs.io/en/latest/getting_started/multiple_instances.html#discord-bots-and-asynchronous-environments for more info.\n",
            "\n",
            "WARNING:praw:It appears that you are using PRAW in an asynchronous environment.\n",
            "It is strongly recommended to use Async PRAW: https://asyncpraw.readthedocs.io.\n",
            "See https://praw.readthedocs.io/en/latest/getting_started/multiple_instances.html#discord-bots-and-asynchronous-environments for more info.\n",
            "\n"
          ]
        },
        {
          "output_type": "stream",
          "name": "stdout",
          "text": [
            "Data saved to /content/drive/MyDrive/Intern/reddit_scraped_data.csv\n"
          ]
        }
      ]
    },
    {
      "cell_type": "code",
      "source": [
        "import nltk\n",
        "\n",
        "# Ensure the 'punkt' tokenizer is downloaded\n",
        "nltk.download('punkt')\n",
        "\n",
        "# Ensure 'stopwords' is also downloaded\n",
        "nltk.download('stopwords')\n",
        "\n",
        "# Verify the 'punkt' data is in the right location\n",
        "from nltk.data import find\n",
        "try:\n",
        "    find('tokenizers/punkt')\n",
        "    print(\"punkt is installed and available.\")\n",
        "except:\n",
        "    print(\"punkt is not found, downloading...\")\n",
        "    nltk.download('punkt')\n"
      ],
      "metadata": {
        "colab": {
          "base_uri": "https://localhost:8080/"
        },
        "id": "mVtsSupkMyhu",
        "outputId": "54cfbcce-7a18-4478-952a-e1a834cdd02e"
      },
      "execution_count": 14,
      "outputs": [
        {
          "output_type": "stream",
          "name": "stdout",
          "text": [
            "punkt is installed and available.\n"
          ]
        },
        {
          "output_type": "stream",
          "name": "stderr",
          "text": [
            "[nltk_data] Downloading package punkt to /root/nltk_data...\n",
            "[nltk_data]   Package punkt is already up-to-date!\n",
            "[nltk_data] Downloading package stopwords to /root/nltk_data...\n",
            "[nltk_data]   Package stopwords is already up-to-date!\n"
          ]
        }
      ]
    },
    {
      "cell_type": "code",
      "source": [
        "import re\n",
        "import pandas as pd\n",
        "from nltk.corpus import stopwords\n",
        "from nltk.tokenize import RegexpTokenizer\n",
        "from sklearn.feature_extraction.text import TfidfVectorizer\n",
        "from sklearn.decomposition import LatentDirichletAllocation\n",
        "from vaderSentiment.vaderSentiment import SentimentIntensityAnalyzer\n",
        "from collections import Counter\n",
        "import nltk\n",
        "import matplotlib.pyplot as plt\n",
        "\n",
        "# Download necessary NLTK data\n",
        "nltk.download('stopwords')\n",
        "\n",
        "# Initialize stopwords and sentiment analyzer\n",
        "stop_words = set(stopwords.words('english'))\n",
        "analyzer = SentimentIntensityAnalyzer()\n",
        "\n",
        "# Example dataset\n",
        "data = [\n",
        "    {\"text\": \"Tesla stock is going to skyrocket! Buy $TSLA now! 🚀🚀\", \"engagement\": 120},\n",
        "    {\"text\": \"Not sure about the tech sector. $AAPL might dip further.\", \"engagement\": 75},\n",
        "    {\"text\": \"Stock markets looking stable. $GOOGL and $MSFT are good bets.\", \"engagement\": 200},\n",
        "    {\"text\": \"Big news for $AMZN, record-breaking sales this quarter!\", \"engagement\": 150}\n",
        "]\n",
        "\n",
        "df = pd.DataFrame(data)\n",
        "\n",
        "# Preprocessing text\n",
        "def preprocess_text(text):\n",
        "    # Remove URLs\n",
        "    text = re.sub(r'http\\S+|www\\S+|https\\S+', '', text, flags=re.MULTILINE)\n",
        "    # Remove stock tickers (analyze separately)\n",
        "    text = re.sub(r'\\$[A-Za-z]+', '', text)\n",
        "    # Remove punctuation and numbers, normalize case\n",
        "    text = re.sub(r'[^\\w\\s]', '', text)\n",
        "    text = text.lower()\n",
        "    tokenizer = RegexpTokenizer(r'\\w+')\n",
        "    tokens = tokenizer.tokenize(text)\n",
        "    # Remove stopwords\n",
        "    tokens = [word for word in tokens if word not in stop_words]\n",
        "    return ' '.join(tokens)\n",
        "\n",
        "df['cleaned_text'] = df['text'].apply(preprocess_text)\n",
        "\n",
        "# a. Sentiment Analysis\n",
        "def analyze_sentiment(text):\n",
        "    sentiment = analyzer.polarity_scores(text)\n",
        "    return sentiment\n",
        "\n",
        "df['sentiment'] = df['cleaned_text'].apply(analyze_sentiment)\n",
        "\n",
        "# Extract sentiment polarity scores\n",
        "df['positive'] = df['sentiment'].apply(lambda x: x['pos'])\n",
        "df['neutral'] = df['sentiment'].apply(lambda x: x['neu'])\n",
        "df['negative'] = df['sentiment'].apply(lambda x: x['neg'])\n",
        "\n",
        "# Determine the overall sentiment label\n",
        "def sentiment_label(row):\n",
        "    if row['positive'] > row['negative']:\n",
        "        return 'Positive'\n",
        "    elif row['negative'] > row['positive']:\n",
        "        return 'Negative'\n",
        "    else:\n",
        "        return 'Neutral'\n",
        "\n",
        "df['sentiment_label'] = df.apply(sentiment_label, axis=1)\n",
        "\n",
        "# Print processed DataFrame\n",
        "print(\"\\nProcessed DataFrame:\")\n",
        "print(df[['text', 'cleaned_text', 'positive', 'neutral', 'negative', 'sentiment_label']])\n",
        "\n",
        "# b. Topic Modeling\n",
        "def perform_topic_modeling(texts, num_topics=2, num_words=5):\n",
        "    vectorizer = TfidfVectorizer(max_features=1000, stop_words='english')\n",
        "    tfidf_matrix = vectorizer.fit_transform(texts)\n",
        "    lda = LatentDirichletAllocation(n_components=num_topics, random_state=42)\n",
        "    lda.fit(tfidf_matrix)\n",
        "    topics = []\n",
        "    for idx, topic in enumerate(lda.components_):\n",
        "        topic_words = [vectorizer.get_feature_names_out()[i] for i in topic.argsort()[-num_words:]]\n",
        "        topics.append(f\"Topic {idx+1}: {', '.join(topic_words)}\")\n",
        "    return topics\n",
        "\n",
        "topics = perform_topic_modeling(df['cleaned_text'])\n",
        "print(\"\\nTopics Identified:\")\n",
        "for topic in topics:\n",
        "    print(topic)\n",
        "\n",
        "# c. Feature Extraction\n",
        "# Frequency Analysis (mention counts)\n",
        "def extract_tickers(text):\n",
        "    return re.findall(r'\\$[A-Za-z]+', text)\n",
        "\n",
        "df['tickers'] = df['text'].apply(extract_tickers)\n",
        "ticker_counts = Counter([ticker for tickers in df['tickers'] for ticker in tickers])\n",
        "\n",
        "# Engagement Metrics (weighted sentiment)\n",
        "df['engagement_weighted_sentiment'] = (df['positive'] - df['negative']) * df['engagement']\n",
        "\n",
        "# Displaying final results\n",
        "print(\"\\nProcessed DataFrame:\")\n",
        "print(df[['text', 'tickers', 'positive', 'neutral', 'negative', 'sentiment_label', 'engagement_weighted_sentiment']])\n",
        "\n",
        "# Most Mentioned Tickers\n",
        "print(\"\\nMost Mentioned Tickers:\")\n",
        "for ticker, count in ticker_counts.most_common():\n",
        "    print(f\"{ticker}: {count}\")\n",
        "\n",
        "# Display engagement analysis summary\n",
        "print(\"\\nEngagement Analysis Summary:\")\n",
        "df['engagement_weighted_sentiment'] = df['engagement_weighted_sentiment'].round(2)\n",
        "print(df[['text', 'engagement', 'engagement_weighted_sentiment']].sort_values(by='engagement_weighted_sentiment', ascending=False))\n",
        "\n",
        "# Data visualization (optional)\n",
        "plt.figure(figsize=(10, 6))\n",
        "df['sentiment_label'].value_counts().plot(kind='bar', color=['green', 'red', 'grey'])\n",
        "plt.title('Distribution of Sentiment Labels')\n",
        "plt.xlabel('Sentiment')\n",
        "plt.ylabel('Count')\n",
        "plt.show()\n",
        "\n",
        "plt.figure(figsize=(12, 6))\n",
        "df['engagement'].plot(kind='hist', bins=20, color='skyblue', edgecolor='black')\n",
        "plt.title('Distribution of Engagement Scores')\n",
        "plt.xlabel('Engagement Score')\n",
        "plt.ylabel('Frequency')\n",
        "plt.show()\n"
      ],
      "metadata": {
        "colab": {
          "base_uri": "https://localhost:8080/",
          "height": 1000
        },
        "id": "5roOUmbPKTbO",
        "outputId": "324922e9-2bef-48ac-ca4f-97ff884a78c1"
      },
      "execution_count": 36,
      "outputs": [
        {
          "output_type": "stream",
          "name": "stderr",
          "text": [
            "[nltk_data] Downloading package stopwords to /root/nltk_data...\n",
            "[nltk_data]   Package stopwords is already up-to-date!\n"
          ]
        },
        {
          "output_type": "stream",
          "name": "stdout",
          "text": [
            "\n",
            "Processed DataFrame:\n",
            "                                                text  \\\n",
            "0  Tesla stock is going to skyrocket! Buy $TSLA n...   \n",
            "1  Not sure about the tech sector. $AAPL might di...   \n",
            "2  Stock markets looking stable. $GOOGL and $MSFT...   \n",
            "3  Big news for $AMZN, record-breaking sales this...   \n",
            "\n",
            "                             cleaned_text  positive  neutral  negative  \\\n",
            "0         tesla stock going skyrocket buy     0.000    1.000       0.0   \n",
            "1              sure tech sector might dip     0.365    0.635       0.0   \n",
            "2  stock markets looking stable good bets     0.560    0.440       0.0   \n",
            "3   big news recordbreaking sales quarter     0.000    1.000       0.0   \n",
            "\n",
            "  sentiment_label  \n",
            "0         Neutral  \n",
            "1        Positive  \n",
            "2        Positive  \n",
            "3         Neutral  \n",
            "\n",
            "Topics Identified:\n",
            "Topic 1: going, sure, tech, dip, sector\n",
            "Topic 2: news, sales, big, quarter, recordbreaking\n",
            "\n",
            "Processed DataFrame:\n",
            "                                                text          tickers  \\\n",
            "0  Tesla stock is going to skyrocket! Buy $TSLA n...          [$TSLA]   \n",
            "1  Not sure about the tech sector. $AAPL might di...          [$AAPL]   \n",
            "2  Stock markets looking stable. $GOOGL and $MSFT...  [$GOOGL, $MSFT]   \n",
            "3  Big news for $AMZN, record-breaking sales this...          [$AMZN]   \n",
            "\n",
            "   positive  neutral  negative sentiment_label  engagement_weighted_sentiment  \n",
            "0     0.000    1.000       0.0         Neutral                          0.000  \n",
            "1     0.365    0.635       0.0        Positive                         27.375  \n",
            "2     0.560    0.440       0.0        Positive                        112.000  \n",
            "3     0.000    1.000       0.0         Neutral                          0.000  \n",
            "\n",
            "Most Mentioned Tickers:\n",
            "$TSLA: 1\n",
            "$AAPL: 1\n",
            "$GOOGL: 1\n",
            "$MSFT: 1\n",
            "$AMZN: 1\n",
            "\n",
            "Engagement Analysis Summary:\n",
            "                                                text  engagement  \\\n",
            "2  Stock markets looking stable. $GOOGL and $MSFT...         200   \n",
            "1  Not sure about the tech sector. $AAPL might di...          75   \n",
            "0  Tesla stock is going to skyrocket! Buy $TSLA n...         120   \n",
            "3  Big news for $AMZN, record-breaking sales this...         150   \n",
            "\n",
            "   engagement_weighted_sentiment  \n",
            "2                         112.00  \n",
            "1                          27.38  \n",
            "0                           0.00  \n",
            "3                           0.00  \n"
          ]
        },
        {
          "output_type": "display_data",
          "data": {
            "text/plain": [
              "<Figure size 1000x600 with 1 Axes>"
            ],
            "image/png": "[encoded data removed]"
          },
          "metadata": {}
        },
        {
          "output_type": "display_data",
          "data": {
            "text/plain": [
              "<Figure size 1200x600 with 1 Axes>"
            ],
            "image/png": "[encoded data removed]"
          },
          "metadata": {}
        }
      ]
    },
    {
      "cell_type": "code",
      "source": [
        "import pandas as pd\n",
        "import numpy as np\n",
        "from sklearn.model_selection import train_test_split, GridSearchCV, StratifiedKFold\n",
        "from sklearn.preprocessing import StandardScaler, MinMaxScaler\n",
        "from sklearn.linear_model import LogisticRegression\n",
        "from sklearn.ensemble import RandomForestClassifier, GradientBoostingClassifier\n",
        "from sklearn.metrics import (accuracy_score, precision_score, recall_score, f1_score,\n",
        "                             classification_report, roc_auc_score, confusion_matrix, roc_curve, auc)\n",
        "import matplotlib.pyplot as plt\n",
        "import seaborn as sns\n",
        "from keras.models import Sequential\n",
        "from keras.layers import LSTM, Dense, Dropout\n",
        "\n",
        "# Assume X and y are defined (replace this with actual dataset loading)\n",
        "# X = ...\n",
        "# y = ...\n",
        "\n",
        "# Split data into training and testing sets\n",
        "X_train, X_test, y_train, y_test = train_test_split(X, y, test_size=0.3, random_state=42)\n",
        "\n",
        "# Check class distribution\n",
        "class_counts = y_train.value_counts()\n",
        "print(\"Class distribution in y_train:\")\n",
        "print(class_counts)\n",
        "\n",
        "# Model 2: Random Forest Classifier\n",
        "rf = RandomForestClassifier(random_state=42)\n",
        "param_grid_rf = {\n",
        "    'n_estimators': [50, 100],\n",
        "    'max_depth': [None, 10],\n",
        "    'min_samples_split': [2, 5]\n",
        "}\n",
        "\n",
        "# Adjust for small datasets\n",
        "if class_counts.min() < 2 or len(y_train) < 5:\n",
        "    print(\"Dataset is too small for cross-validation. Skipping GridSearchCV for Random Forest.\")\n",
        "    rf.fit(X_train, y_train)\n",
        "    rf_best = rf\n",
        "else:\n",
        "    grid_search_rf = GridSearchCV(\n",
        "        rf, param_grid_rf,\n",
        "        cv=StratifiedKFold(n_splits=2, shuffle=True, random_state=42),\n",
        "        scoring='accuracy'\n",
        "    )\n",
        "    grid_search_rf.fit(X_train, y_train)\n",
        "    rf_best = grid_search_rf.best_estimator_\n",
        "\n",
        "y_pred_rf = rf_best.predict(X_test)\n",
        "\n",
        "# Model 3: Gradient Boosting Classifier\n",
        "gb = GradientBoostingClassifier(random_state=42)\n",
        "param_grid_gb = {\n",
        "    'n_estimators': [50, 100],\n",
        "    'learning_rate': [0.01, 0.1],\n",
        "    'max_depth': [3, 5]\n",
        "}\n",
        "\n",
        "# Adjust for small datasets\n",
        "if class_counts.min() < 2 or len(y_train) < 5:\n",
        "    print(\"Dataset is too small for cross-validation. Skipping GridSearchCV for Gradient Boosting.\")\n",
        "    gb.fit(X_train, y_train)\n",
        "    gb_best = gb\n",
        "else:\n",
        "    grid_search_gb = GridSearchCV(\n",
        "        gb, param_grid_gb,\n",
        "        cv=StratifiedKFold(n_splits=2, shuffle=True, random_state=42),\n",
        "        scoring='accuracy'\n",
        "    )\n",
        "    grid_search_gb.fit(X_train, y_train)\n",
        "    gb_best = grid_search_gb.best_estimator_\n",
        "\n",
        "y_pred_gb = gb_best.predict(X_test)\n",
        "\n",
        "# Model 4: LSTM Model (Time-Series)\n",
        "scaler_lstm = MinMaxScaler()\n",
        "X_train_reshaped = scaler_lstm.fit_transform(X_train).reshape((X_train.shape[0], 1, X_train.shape[1]))\n",
        "X_test_reshaped = scaler_lstm.transform(X_test).reshape((X_test.shape[0], 1, X_test.shape[1]))\n",
        "\n",
        "lstm_model = Sequential()\n",
        "lstm_model.add(LSTM(50, activation='relu', input_shape=(1, X_train.shape[1])))\n",
        "lstm_model.add(Dropout(0.2))\n",
        "lstm_model.add(Dense(1, activation='sigmoid'))\n",
        "lstm_model.compile(optimizer='adam', loss='binary_crossentropy', metrics=['accuracy'])\n",
        "\n",
        "# Fit LSTM model with appropriate epochs and batch size for small data\n",
        "epochs = 5 if len(y_train) > 10 else 3\n",
        "batch_size = 2 if len(y_train) > 10 else 1\n",
        "lstm_model.fit(X_train_reshaped, y_train, epochs=epochs, batch_size=batch_size, validation_split=0.2, verbose=0)\n",
        "\n",
        "# Predict using the LSTM model\n",
        "y_pred_lstm = (lstm_model.predict(X_test_reshaped) > 0.5).astype(int)\n",
        "\n",
        "# Model Evaluation Function\n",
        "def evaluate_model(y_true, y_pred, model_name='Model'):\n",
        "    print(f'\\n{model_name} Evaluation:')\n",
        "    print('Accuracy:', accuracy_score(y_true, y_pred))\n",
        "    print('Precision:', precision_score(y_true, y_pred, zero_division=1))\n",
        "    print('Recall:', recall_score(y_true, y_pred, zero_division=1))\n",
        "    print('F1 Score:', f1_score(y_true, y_pred, zero_division=1))\n",
        "    try:\n",
        "        print('ROC-AUC:', roc_auc_score(y_true, y_pred))\n",
        "    except ValueError:\n",
        "        print('ROC-AUC: Not applicable for this data.')\n",
        "    print('Confusion Matrix:')\n",
        "    print(confusion_matrix(y_true, y_pred))\n",
        "    print(classification_report(y_true, y_pred))\n",
        "\n",
        "# Evaluate all models\n",
        "evaluate_model(y_test, y_pred_rf, 'Random Forest')\n",
        "evaluate_model(y_test, y_pred_gb, 'Gradient Boosting')\n",
        "evaluate_model(y_test, y_pred_lstm, 'LSTM')\n",
        "\n",
        "# Visualize ROC Curve for all models\n",
        "plt.figure(figsize=(12, 8))\n",
        "models = [\n",
        "    ('Random Forest', rf_best, X_test, 'predict_proba', 1),\n",
        "    ('Gradient Boosting', gb_best, X_test, 'predict_proba', 1),\n",
        "    ('LSTM', lstm_model, X_test_reshaped, 'predict', 0)\n",
        "]\n",
        "\n",
        "for model_name, model, X_data, predict_method, index in models:\n",
        "    if predict_method == 'predict_proba':\n",
        "        fpr, tpr, _ = roc_curve(y_test, getattr(model, predict_method)(X_data)[:, index])\n",
        "    else:\n",
        "        fpr, tpr, _ = roc_curve(y_test, getattr(model, predict_method)(X_data))\n",
        "    plt.plot(fpr, tpr, label=f'{model_name} (AUC = {auc(fpr, tpr):.2f})')\n",
        "\n",
        "plt.plot([0, 1], [0, 1], 'k--', label='Random')\n",
        "plt.xlabel('False Positive Rate')\n",
        "plt.ylabel('True Positive Rate')\n",
        "plt.title('ROC Curve')\n",
        "plt.legend()\n",
        "plt.show()\n",
        "\n",
        "# Compare results with baseline\n",
        "baseline_accuracy = np.mean(y_test == np.random.randint(0, 2, len(y_test)))\n",
        "print(\"\\nBaseline Accuracy:\", baseline_accuracy)\n"
      ],
      "metadata": {
        "colab": {
          "base_uri": "https://localhost:8080/",
          "height": 1000
        },
        "id": "MMpqXK1qOBD7",
        "outputId": "a248558b-2550-473c-f7e8-8bf185011a92"
      },
      "execution_count": 37,
      "outputs": [
        {
          "output_type": "stream",
          "name": "stdout",
          "text": [
            "Class distribution in y_train:\n",
            "stock_price\n",
            "0    1\n",
            "1    1\n",
            "Name: count, dtype: int64\n",
            "Dataset is too small for cross-validation. Skipping GridSearchCV for Random Forest.\n",
            "Dataset is too small for cross-validation. Skipping GridSearchCV for Gradient Boosting.\n"
          ]
        },
        {
          "output_type": "stream",
          "name": "stderr",
          "text": [
            "/usr/local/lib/python3.10/dist-packages/keras/src/layers/rnn/rnn.py:204: UserWarning: Do not pass an `input_shape`/`input_dim` argument to a layer. When using Sequential models, prefer using an `Input(shape)` object as the first layer in the model instead.\n",
            "  super().__init__(**kwargs)\n"
          ]
        },
        {
          "output_type": "stream",
          "name": "stdout",
          "text": [
            "\u001b[1m1/1\u001b[0m \u001b[32m━━━━━━━━━━━━━━━━━━━━\u001b[0m\u001b[37m\u001b[0m \u001b[1m0s\u001b[0m 219ms/step\n",
            "\n",
            "Random Forest Evaluation:\n",
            "Accuracy: 0.5\n",
            "Precision: 1.0\n",
            "Recall: 0.0\n",
            "F1 Score: 0.0\n",
            "ROC-AUC: 0.5\n",
            "Confusion Matrix:\n",
            "[[1 0]\n",
            " [1 0]]\n",
            "              precision    recall  f1-score   support\n",
            "\n",
            "           0       0.50      1.00      0.67         1\n",
            "           1       0.00      0.00      0.00         1\n",
            "\n",
            "    accuracy                           0.50         2\n",
            "   macro avg       0.25      0.50      0.33         2\n",
            "weighted avg       0.25      0.50      0.33         2\n",
            "\n",
            "\n",
            "Gradient Boosting Evaluation:\n",
            "Accuracy: 0.5\n",
            "Precision: 1.0\n",
            "Recall: 0.0\n",
            "F1 Score: 0.0\n",
            "ROC-AUC: 0.5\n",
            "Confusion Matrix:\n",
            "[[1 0]\n",
            " [1 0]]\n",
            "              precision    recall  f1-score   support\n",
            "\n",
            "           0       0.50      1.00      0.67         1\n",
            "           1       0.00      0.00      0.00         1\n",
            "\n",
            "    accuracy                           0.50         2\n",
            "   macro avg       0.25      0.50      0.33         2\n",
            "weighted avg       0.25      0.50      0.33         2\n",
            "\n",
            "\n",
            "LSTM Evaluation:\n",
            "Accuracy: 0.5\n",
            "Precision: 0.5\n",
            "Recall: 1.0\n",
            "F1 Score: 0.6666666666666666\n",
            "ROC-AUC: 0.5\n",
            "Confusion Matrix:\n",
            "[[0 1]\n",
            " [0 1]]\n",
            "              precision    recall  f1-score   support\n",
            "\n",
            "           0       0.00      0.00      0.00         1\n",
            "           1       0.50      1.00      0.67         1\n",
            "\n",
            "    accuracy                           0.50         2\n",
            "   macro avg       0.25      0.50      0.33         2\n",
            "weighted avg       0.25      0.50      0.33         2\n",
            "\n",
            "\u001b[1m1/1\u001b[0m \u001b[32m━━━━━━━━━━━━━━━━━━━━\u001b[0m\u001b[37m\u001b[0m \u001b[1m0s\u001b[0m 20ms/step\n"
          ]
        },
        {
          "output_type": "stream",
          "name": "stderr",
          "text": [
            "/usr/local/lib/python3.10/dist-packages/sklearn/metrics/_classification.py:1531: UndefinedMetricWarning: Precision is ill-defined and being set to 0.0 in labels with no predicted samples. Use `zero_division` parameter to control this behavior.\n",
            "  _warn_prf(average, modifier, f\"{metric.capitalize()} is\", len(result))\n",
            "/usr/local/lib/python3.10/dist-packages/sklearn/metrics/_classification.py:1531: UndefinedMetricWarning: Precision is ill-defined and being set to 0.0 in labels with no predicted samples. Use `zero_division` parameter to control this behavior.\n",
            "  _warn_prf(average, modifier, f\"{metric.capitalize()} is\", len(result))\n",
            "/usr/local/lib/python3.10/dist-packages/sklearn/metrics/_classification.py:1531: UndefinedMetricWarning: Precision is ill-defined and being set to 0.0 in labels with no predicted samples. Use `zero_division` parameter to control this behavior.\n",
            "  _warn_prf(average, modifier, f\"{metric.capitalize()} is\", len(result))\n",
            "/usr/local/lib/python3.10/dist-packages/sklearn/metrics/_classification.py:1531: UndefinedMetricWarning: Precision is ill-defined and being set to 0.0 in labels with no predicted samples. Use `zero_division` parameter to control this behavior.\n",
            "  _warn_prf(average, modifier, f\"{metric.capitalize()} is\", len(result))\n",
            "/usr/local/lib/python3.10/dist-packages/sklearn/metrics/_classification.py:1531: UndefinedMetricWarning: Precision is ill-defined and being set to 0.0 in labels with no predicted samples. Use `zero_division` parameter to control this behavior.\n",
            "  _warn_prf(average, modifier, f\"{metric.capitalize()} is\", len(result))\n",
            "/usr/local/lib/python3.10/dist-packages/sklearn/metrics/_classification.py:1531: UndefinedMetricWarning: Precision is ill-defined and being set to 0.0 in labels with no predicted samples. Use `zero_division` parameter to control this behavior.\n",
            "  _warn_prf(average, modifier, f\"{metric.capitalize()} is\", len(result))\n",
            "/usr/local/lib/python3.10/dist-packages/sklearn/metrics/_classification.py:1531: UndefinedMetricWarning: Precision is ill-defined and being set to 0.0 in labels with no predicted samples. Use `zero_division` parameter to control this behavior.\n",
            "  _warn_prf(average, modifier, f\"{metric.capitalize()} is\", len(result))\n",
            "/usr/local/lib/python3.10/dist-packages/sklearn/metrics/_classification.py:1531: UndefinedMetricWarning: Precision is ill-defined and being set to 0.0 in labels with no predicted samples. Use `zero_division` parameter to control this behavior.\n",
            "  _warn_prf(average, modifier, f\"{metric.capitalize()} is\", len(result))\n",
            "/usr/local/lib/python3.10/dist-packages/sklearn/metrics/_classification.py:1531: UndefinedMetricWarning: Precision is ill-defined and being set to 0.0 in labels with no predicted samples. Use `zero_division` parameter to control this behavior.\n",
            "  _warn_prf(average, modifier, f\"{metric.capitalize()} is\", len(result))\n"
          ]
        },
        {
          "output_type": "display_data",
          "data": {
            "text/plain": [
              "<Figure size 1200x800 with 1 Axes>"
            ],
            "image/png": "[encoded data removed]"
          },
          "metadata": {}
        },
        {
          "output_type": "stream",
          "name": "stdout",
          "text": [
            "\n",
            "Baseline Accuracy: 0.5\n"
          ]
        }
      ]
    },
    {
      "cell_type": "code",
      "source": [
        "import joblib\n",
        "\n",
        "# Save the Random Forest model\n",
        "joblib.dump(rf_best, 'random_forest_model.pkl')\n",
        "\n",
        "# Save the Gradient Boosting model\n",
        "joblib.dump(gb_best, 'gradient_boosting_model.pkl')\n",
        "\n",
        "# Save the LSTM model\n",
        "lstm_model.save('/content/drive/MyDrive/Intern/lstm_model.h5')\n",
        "\n",
        "print(\"Models have been saved successfully.\")\n"
      ],
      "metadata": {
        "colab": {
          "base_uri": "https://localhost:8080/"
        },
        "id": "GVpNzRZ4aWk6",
        "outputId": "7e8ce0c2-8b71-46cb-8a47-38ddf5489416"
      },
      "execution_count": 34,
      "outputs": [
        {
          "output_type": "stream",
          "name": "stderr",
          "text": [
            "WARNING:absl:You are saving your model as an HDF5 file via `model.save()` or `keras.saving.save_model(model)`. This file format is considered legacy. We recommend using instead the native Keras format, e.g. `model.save('my_model.keras')` or `keras.saving.save_model(model, 'my_model.keras')`. \n"
          ]
        },
        {
          "output_type": "stream",
          "name": "stdout",
          "text": [
            "Models have been saved successfully.\n"
          ]
        }
      ]
    }
  ]
}